{
  "nbformat": 4,
  "nbformat_minor": 0,
  "metadata": {
    "colab": {
      "provenance": [],
      "authorship_tag": "ABX9TyPXtC/9TAeM4w6WFc6zyrWX",
      "include_colab_link": true
    },
    "kernelspec": {
      "name": "python3",
      "display_name": "Python 3"
    },
    "language_info": {
      "name": "python"
    }
  },
  "cells": [
    {
      "cell_type": "markdown",
      "metadata": {
        "id": "view-in-github",
        "colab_type": "text"
      },
      "source": [
        "<a href=\"https://colab.research.google.com/github/Nagashree90/API-powered-support-copilot/blob/main/AI_Support_copilot.ipynb\" target=\"_parent\"><img src=\"https://colab.research.google.com/assets/colab-badge.svg\" alt=\"Open In Colab\"/></a>"
      ]
    },
    {
      "cell_type": "code",
      "source": [
        "\n",
        "!ngrok config add-authtoken 2zuv7xJeJC18APrCTYNrYtiHulP_72xLhHFNJpSyA7RaJTeNW\n",
        "\n"
      ],
      "metadata": {
        "colab": {
          "base_uri": "https://localhost:8080/"
        },
        "id": "sDoczkxfvYok",
        "outputId": "67789d76-329d-40bb-b9af-5715d0cb7efb"
      },
      "execution_count": 3,
      "outputs": [
        {
          "output_type": "stream",
          "name": "stdout",
          "text": [
            "Authtoken saved to configuration file: /root/.config/ngrok/ngrok.yml\n"
          ]
        }
      ]
    },
    {
      "cell_type": "code",
      "execution_count": 4,
      "metadata": {
        "colab": {
          "base_uri": "https://localhost:8080/"
        },
        "id": "yy6qStvMsc4u",
        "outputId": "6f5073a1-b156-4bb9-ff35-df690e54dd2e"
      },
      "outputs": [
        {
          "metadata": {
            "tags": null
          },
          "name": "stdout",
          "output_type": "stream",
          "text": [
            "Requirement already satisfied: fastapi in /usr/local/lib/python3.11/dist-packages (0.116.0)\n",
            "Requirement already satisfied: uvicorn in /usr/local/lib/python3.11/dist-packages (0.35.0)\n",
            "Requirement already satisfied: nest-asyncio in /usr/local/lib/python3.11/dist-packages (1.6.0)\n",
            "Requirement already satisfied: pyngrok in /usr/local/lib/python3.11/dist-packages (7.2.12)\n",
            "Requirement already satisfied: starlette<0.47.0,>=0.40.0 in /usr/local/lib/python3.11/dist-packages (from fastapi) (0.46.2)\n",
            "Requirement already satisfied: pydantic!=1.8,!=1.8.1,!=2.0.0,!=2.0.1,!=2.1.0,<3.0.0,>=1.7.4 in /usr/local/lib/python3.11/dist-packages (from fastapi) (2.11.7)\n",
            "Requirement already satisfied: typing-extensions>=4.8.0 in /usr/local/lib/python3.11/dist-packages (from fastapi) (4.14.1)\n",
            "Requirement already satisfied: click>=7.0 in /usr/local/lib/python3.11/dist-packages (from uvicorn) (8.2.1)\n",
            "Requirement already satisfied: h11>=0.8 in /usr/local/lib/python3.11/dist-packages (from uvicorn) (0.16.0)\n",
            "Requirement already satisfied: PyYAML>=5.1 in /usr/local/lib/python3.11/dist-packages (from pyngrok) (6.0.2)\n",
            "Requirement already satisfied: annotated-types>=0.6.0 in /usr/local/lib/python3.11/dist-packages (from pydantic!=1.8,!=1.8.1,!=2.0.0,!=2.0.1,!=2.1.0,<3.0.0,>=1.7.4->fastapi) (0.7.0)\n",
            "Requirement already satisfied: pydantic-core==2.33.2 in /usr/local/lib/python3.11/dist-packages (from pydantic!=1.8,!=1.8.1,!=2.0.0,!=2.0.1,!=2.1.0,<3.0.0,>=1.7.4->fastapi) (2.33.2)\n",
            "Requirement already satisfied: typing-inspection>=0.4.0 in /usr/local/lib/python3.11/dist-packages (from pydantic!=1.8,!=1.8.1,!=2.0.0,!=2.0.1,!=2.1.0,<3.0.0,>=1.7.4->fastapi) (0.4.1)\n",
            "Requirement already satisfied: anyio<5,>=3.6.2 in /usr/local/lib/python3.11/dist-packages (from starlette<0.47.0,>=0.40.0->fastapi) (4.9.0)\n",
            "Requirement already satisfied: idna>=2.8 in /usr/local/lib/python3.11/dist-packages (from anyio<5,>=3.6.2->starlette<0.47.0,>=0.40.0->fastapi) (3.10)\n",
            "Requirement already satisfied: sniffio>=1.1 in /usr/local/lib/python3.11/dist-packages (from anyio<5,>=3.6.2->starlette<0.47.0,>=0.40.0->fastapi) (1.3.1)\n"
          ]
        },
        {
          "metadata": {
            "tags": null
          },
          "name": "stderr",
          "output_type": "stream",
          "text": [
            "INFO:     Started server process [180]\n",
            "INFO:     Waiting for application startup.\n",
            "INFO:     Application startup complete.\n",
            "INFO:     Uvicorn running on http://0.0.0.0:8000 (Press CTRL+C to quit)\n"
          ]
        },
        {
          "metadata": {
            "tags": null
          },
          "name": "stdout",
          "output_type": "stream",
          "text": [
            "Your public API is available at: NgrokTunnel: \"https://532bcf736135.ngrok-free.app\" -> \"http://localhost:8000\"/docs\n",
            "INFO:     2409:40f2:145:7f60:ccc0:63f6:eba6:79f2:0 - \"GET /docs HTTP/1.1\" 200 OK\n",
            "INFO:     2409:40f2:145:7f60:ccc0:63f6:eba6:79f2:0 - \"GET /openapi.json HTTP/1.1\" 200 OK\n"
          ]
        },
        {
          "output_type": "stream",
          "name": "stderr",
          "text": [
            "INFO:     Shutting down\n",
            "INFO:     Waiting for application shutdown.\n",
            "INFO:     Application shutdown complete.\n",
            "INFO:     Finished server process [180]\n"
          ]
        }
      ],
      "source": [
        "# Step 1: Install Required Libraries\n",
        "!pip install fastapi uvicorn nest-asyncio pyngrok\n",
        "\n",
        "# Step 2: Import Libraries\n",
        "from fastapi import FastAPI\n",
        "from pydantic import BaseModel\n",
        "from pyngrok import ngrok\n",
        "import nest_asyncio\n",
        "import uvicorn\n",
        "from typing import List\n",
        "\n",
        "# Step 3: Setup Environment\n",
        "nest_asyncio.apply()\n",
        "\n",
        "# Step 4: Define FastAPI App\n",
        "app = FastAPI(\n",
        "    title=\"AI-Powered Support Copilot APIs\",\n",
        "    description=\"Provides support issue analysis, message recommendations, conversation summarization, and monitoring via REST APIs.\",\n",
        "    version=\"1.0\"\n",
        ")\n",
        "\n",
        "# Step 5: Define Data Models\n",
        "\n",
        "class IssueInput(BaseModel):\n",
        "    customer_id: str\n",
        "    issue_description: str\n",
        "    product_id: str\n",
        "\n",
        "class MessageInput(BaseModel):\n",
        "    customer_id: str\n",
        "    issue_description: str\n",
        "    severity: str\n",
        "\n",
        "class ConversationInput(BaseModel):\n",
        "    conversation_history: List[dict]\n",
        "\n",
        "# Step 6: Define API Endpoints\n",
        "\n",
        "@app.post(\"/api/issues/analyze\")\n",
        "def analyze_issue(data: IssueInput):\n",
        "    # Simulated response\n",
        "    return {\n",
        "        \"customer_past_issues\": 5,\n",
        "        \"similar_issues\": [\n",
        "            {\"issue_id\": \"ISSUE234\", \"resolution\": \"Reinstall latest patch.\"},\n",
        "            {\"issue_id\": \"ISSUE455\", \"resolution\": \"Rollback to previous version.\"}\n",
        "        ],\n",
        "        \"severity\": \"High\",\n",
        "        \"unattended_critical_issue\": True\n",
        "    }\n",
        "\n",
        "@app.get(\"/api/issues/history\")\n",
        "def fetch_history(customer_id: str):\n",
        "    return {\n",
        "        \"customer_id\": customer_id,\n",
        "        \"past_issues\": [\n",
        "            {\"issue_id\": \"ISSUE101\", \"description\": \"Login issue\", \"status\": \"Resolved\"},\n",
        "            {\"issue_id\": \"ISSUE202\", \"description\": \"Payment failure\", \"status\": \"Open\"}\n",
        "        ]\n",
        "    }\n",
        "\n",
        "@app.post(\"/api/issues/similar\")\n",
        "def search_similar(data: IssueInput):\n",
        "    return {\n",
        "        \"similar_issues\": [\n",
        "            {\"issue_id\": \"ISSUE300\", \"resolution\": \"Clear browser cache.\"},\n",
        "            {\"issue_id\": \"ISSUE301\", \"resolution\": \"Reset network settings.\"}\n",
        "        ]\n",
        "    }\n",
        "\n",
        "@app.post(\"/api/messages/recommend-template\")\n",
        "def recommend_message(data: MessageInput):\n",
        "    return {\n",
        "        \"recommended_message\": \"We're working on your reported issue with priority. You will receive updates shortly.\"\n",
        "    }\n",
        "\n",
        "@app.post(\"/api/conversations/summary\")\n",
        "def summarize_conversation(data: ConversationInput):\n",
        "    return {\n",
        "        \"conversation_summary\": \"Customer reported login issue. Guided to reset password. Issue resolved.\"\n",
        "    }\n",
        "\n",
        "@app.get(\"/api/issues/unattended\")\n",
        "def get_unattended_critical_issues():\n",
        "    return {\n",
        "        \"unattended_critical_issues\": [\n",
        "            {\"issue_id\": \"ISSUE400\", \"customer_id\": \"C78910\", \"created_at\": \"2024-07-10T09:30:00Z\"}\n",
        "        ]\n",
        "    }\n",
        "\n",
        "# Step 7: Expose API Publicly via Ngrok\n",
        "public_url = ngrok.connect(8000)\n",
        "print(f\"Your public API is available at: {public_url}/docs\")\n",
        "\n",
        "# Step 8: Run the FastAPI Server\n",
        "uvicorn.run(app, host='0.0.0.0', port=8000)\n"
      ]
    },
    {
      "cell_type": "code",
      "source": [],
      "metadata": {
        "id": "rgFlDoVftLCU"
      },
      "execution_count": null,
      "outputs": []
    }
  ]
}