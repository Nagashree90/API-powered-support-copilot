{
  "nbformat": 4,
  "nbformat_minor": 0,
  "metadata": {
    "colab": {
      "provenance": [],
      "include_colab_link": true
    },
    "kernelspec": {
      "name": "python3",
      "display_name": "Python 3"
    },
    "language_info": {
      "name": "python"
    }
  },
  "cells": [
    {
      "cell_type": "markdown",
      "metadata": {
        "id": "view-in-github",
        "colab_type": "text"
      },
      "source": [
        "<a href=\"https://colab.research.google.com/github/Nagashree90/API-powered-support-copilot/blob/main/Email_Spam_Classification.ipynb\" target=\"_parent\"><img src=\"https://colab.research.google.com/assets/colab-badge.svg\" alt=\"Open In Colab\"/></a>"
      ]
    },
    {
      "cell_type": "markdown",
      "source": [
        "##Loading Essential Python Libraries"
      ],
      "metadata": {
        "id": "KphrxxaJd9Qz"
      }
    },
    {
      "cell_type": "code",
      "execution_count": null,
      "metadata": {
        "id": "tTGtMlMgeTof"
      },
      "outputs": [],
      "source": [
        "import pandas as pd\n",
        "import numpy as np\n",
        "import matplotlib.pyplot as plt\n",
        "import seaborn as sns\n",
        "\n",
        "from sklearn.model_selection import train_test_split, cross_val_score\n",
        "from sklearn.feature_extraction.text import TfidfVectorizer\n",
        "from sklearn.linear_model import LogisticRegression\n",
        "from sklearn.naive_bayes import MultinomialNB\n",
        "from sklearn.svm import SVC\n",
        "from sklearn.metrics import accuracy_score, classification_report, confusion_matrix"
      ]
    },
    {
      "cell_type": "markdown",
      "source": [
        "##Loading Dataset"
      ],
      "metadata": {
        "id": "UbyfkwFVephy"
      }
    },
    {
      "cell_type": "code",
      "source": [
        "df=pd.read_csv('/content/email_spam_synthetic.csv')\n",
        "df.head()"
      ],
      "metadata": {
        "colab": {
          "base_uri": "https://localhost:8080/",
          "height": 206
        },
        "id": "0WbfLkehes-C",
        "outputId": "d190faec-4472-4af2-e2d1-45d89dae4ac0"
      },
      "execution_count": null,
      "outputs": [
        {
          "output_type": "execute_result",
          "data": {
            "text/plain": [
              "         id                                               text label\n",
              "0  EM101782  limited time offer project update support help...  spam\n",
              "1  EM103917        client feedback summary verify limited team   ham\n",
              "2  EM100221  unlock bonus today welcome schedule welcome ca...  spam\n",
              "3  EM102135  exclusive discount coupon limited voucher veri...  spam\n",
              "4  EM105224  deployment was successful discount invoice ple...   ham"
            ],
            "text/html": [
              "\n",
              "  <div id=\"df-6bb33980-b435-48c7-977c-b04b7d231dd9\" class=\"colab-df-container\">\n",
              "    <div>\n",
              "<style scoped>\n",
              "    .dataframe tbody tr th:only-of-type {\n",
              "        vertical-align: middle;\n",
              "    }\n",
              "\n",
              "    .dataframe tbody tr th {\n",
              "        vertical-align: top;\n",
              "    }\n",
              "\n",
              "    .dataframe thead th {\n",
              "        text-align: right;\n",
              "    }\n",
              "</style>\n",
              "<table border=\"1\" class=\"dataframe\">\n",
              "  <thead>\n",
              "    <tr style=\"text-align: right;\">\n",
              "      <th></th>\n",
              "      <th>id</th>\n",
              "      <th>text</th>\n",
              "      <th>label</th>\n",
              "    </tr>\n",
              "  </thead>\n",
              "  <tbody>\n",
              "    <tr>\n",
              "      <th>0</th>\n",
              "      <td>EM101782</td>\n",
              "      <td>limited time offer project update support help...</td>\n",
              "      <td>spam</td>\n",
              "    </tr>\n",
              "    <tr>\n",
              "      <th>1</th>\n",
              "      <td>EM103917</td>\n",
              "      <td>client feedback summary verify limited team</td>\n",
              "      <td>ham</td>\n",
              "    </tr>\n",
              "    <tr>\n",
              "      <th>2</th>\n",
              "      <td>EM100221</td>\n",
              "      <td>unlock bonus today welcome schedule welcome ca...</td>\n",
              "      <td>spam</td>\n",
              "    </tr>\n",
              "    <tr>\n",
              "      <th>3</th>\n",
              "      <td>EM102135</td>\n",
              "      <td>exclusive discount coupon limited voucher veri...</td>\n",
              "      <td>spam</td>\n",
              "    </tr>\n",
              "    <tr>\n",
              "      <th>4</th>\n",
              "      <td>EM105224</td>\n",
              "      <td>deployment was successful discount invoice ple...</td>\n",
              "      <td>ham</td>\n",
              "    </tr>\n",
              "  </tbody>\n",
              "</table>\n",
              "</div>\n",
              "    <div class=\"colab-df-buttons\">\n",
              "\n",
              "  <div class=\"colab-df-container\">\n",
              "    <button class=\"colab-df-convert\" onclick=\"convertToInteractive('df-6bb33980-b435-48c7-977c-b04b7d231dd9')\"\n",
              "            title=\"Convert this dataframe to an interactive table.\"\n",
              "            style=\"display:none;\">\n",
              "\n",
              "  <svg xmlns=\"http://www.w3.org/2000/svg\" height=\"24px\" viewBox=\"0 -960 960 960\">\n",
              "    <path d=\"M120-120v-720h720v720H120Zm60-500h600v-160H180v160Zm220 220h160v-160H400v160Zm0 220h160v-160H400v160ZM180-400h160v-160H180v160Zm440 0h160v-160H620v160ZM180-180h160v-160H180v160Zm440 0h160v-160H620v160Z\"/>\n",
              "  </svg>\n",
              "    </button>\n",
              "\n",
              "  <style>\n",
              "    .colab-df-container {\n",
              "      display:flex;\n",
              "      gap: 12px;\n",
              "    }\n",
              "\n",
              "    .colab-df-convert {\n",
              "      background-color: #E8F0FE;\n",
              "      border: none;\n",
              "      border-radius: 50%;\n",
              "      cursor: pointer;\n",
              "      display: none;\n",
              "      fill: #1967D2;\n",
              "      height: 32px;\n",
              "      padding: 0 0 0 0;\n",
              "      width: 32px;\n",
              "    }\n",
              "\n",
              "    .colab-df-convert:hover {\n",
              "      background-color: #E2EBFA;\n",
              "      box-shadow: 0px 1px 2px rgba(60, 64, 67, 0.3), 0px 1px 3px 1px rgba(60, 64, 67, 0.15);\n",
              "      fill: #174EA6;\n",
              "    }\n",
              "\n",
              "    .colab-df-buttons div {\n",
              "      margin-bottom: 4px;\n",
              "    }\n",
              "\n",
              "    [theme=dark] .colab-df-convert {\n",
              "      background-color: #3B4455;\n",
              "      fill: #D2E3FC;\n",
              "    }\n",
              "\n",
              "    [theme=dark] .colab-df-convert:hover {\n",
              "      background-color: #434B5C;\n",
              "      box-shadow: 0px 1px 3px 1px rgba(0, 0, 0, 0.15);\n",
              "      filter: drop-shadow(0px 1px 2px rgba(0, 0, 0, 0.3));\n",
              "      fill: #FFFFFF;\n",
              "    }\n",
              "  </style>\n",
              "\n",
              "    <script>\n",
              "      const buttonEl =\n",
              "        document.querySelector('#df-6bb33980-b435-48c7-977c-b04b7d231dd9 button.colab-df-convert');\n",
              "      buttonEl.style.display =\n",
              "        google.colab.kernel.accessAllowed ? 'block' : 'none';\n",
              "\n",
              "      async function convertToInteractive(key) {\n",
              "        const element = document.querySelector('#df-6bb33980-b435-48c7-977c-b04b7d231dd9');\n",
              "        const dataTable =\n",
              "          await google.colab.kernel.invokeFunction('convertToInteractive',\n",
              "                                                    [key], {});\n",
              "        if (!dataTable) return;\n",
              "\n",
              "        const docLinkHtml = 'Like what you see? Visit the ' +\n",
              "          '<a target=\"_blank\" href=https://colab.research.google.com/notebooks/data_table.ipynb>data table notebook</a>'\n",
              "          + ' to learn more about interactive tables.';\n",
              "        element.innerHTML = '';\n",
              "        dataTable['output_type'] = 'display_data';\n",
              "        await google.colab.output.renderOutput(dataTable, element);\n",
              "        const docLink = document.createElement('div');\n",
              "        docLink.innerHTML = docLinkHtml;\n",
              "        element.appendChild(docLink);\n",
              "      }\n",
              "    </script>\n",
              "  </div>\n",
              "\n",
              "\n",
              "    <div id=\"df-591694da-0f0d-45ff-989e-2ebf004e3b0b\">\n",
              "      <button class=\"colab-df-quickchart\" onclick=\"quickchart('df-591694da-0f0d-45ff-989e-2ebf004e3b0b')\"\n",
              "                title=\"Suggest charts\"\n",
              "                style=\"display:none;\">\n",
              "\n",
              "<svg xmlns=\"http://www.w3.org/2000/svg\" height=\"24px\"viewBox=\"0 0 24 24\"\n",
              "     width=\"24px\">\n",
              "    <g>\n",
              "        <path d=\"M19 3H5c-1.1 0-2 .9-2 2v14c0 1.1.9 2 2 2h14c1.1 0 2-.9 2-2V5c0-1.1-.9-2-2-2zM9 17H7v-7h2v7zm4 0h-2V7h2v10zm4 0h-2v-4h2v4z\"/>\n",
              "    </g>\n",
              "</svg>\n",
              "      </button>\n",
              "\n",
              "<style>\n",
              "  .colab-df-quickchart {\n",
              "      --bg-color: #E8F0FE;\n",
              "      --fill-color: #1967D2;\n",
              "      --hover-bg-color: #E2EBFA;\n",
              "      --hover-fill-color: #174EA6;\n",
              "      --disabled-fill-color: #AAA;\n",
              "      --disabled-bg-color: #DDD;\n",
              "  }\n",
              "\n",
              "  [theme=dark] .colab-df-quickchart {\n",
              "      --bg-color: #3B4455;\n",
              "      --fill-color: #D2E3FC;\n",
              "      --hover-bg-color: #434B5C;\n",
              "      --hover-fill-color: #FFFFFF;\n",
              "      --disabled-bg-color: #3B4455;\n",
              "      --disabled-fill-color: #666;\n",
              "  }\n",
              "\n",
              "  .colab-df-quickchart {\n",
              "    background-color: var(--bg-color);\n",
              "    border: none;\n",
              "    border-radius: 50%;\n",
              "    cursor: pointer;\n",
              "    display: none;\n",
              "    fill: var(--fill-color);\n",
              "    height: 32px;\n",
              "    padding: 0;\n",
              "    width: 32px;\n",
              "  }\n",
              "\n",
              "  .colab-df-quickchart:hover {\n",
              "    background-color: var(--hover-bg-color);\n",
              "    box-shadow: 0 1px 2px rgba(60, 64, 67, 0.3), 0 1px 3px 1px rgba(60, 64, 67, 0.15);\n",
              "    fill: var(--button-hover-fill-color);\n",
              "  }\n",
              "\n",
              "  .colab-df-quickchart-complete:disabled,\n",
              "  .colab-df-quickchart-complete:disabled:hover {\n",
              "    background-color: var(--disabled-bg-color);\n",
              "    fill: var(--disabled-fill-color);\n",
              "    box-shadow: none;\n",
              "  }\n",
              "\n",
              "  .colab-df-spinner {\n",
              "    border: 2px solid var(--fill-color);\n",
              "    border-color: transparent;\n",
              "    border-bottom-color: var(--fill-color);\n",
              "    animation:\n",
              "      spin 1s steps(1) infinite;\n",
              "  }\n",
              "\n",
              "  @keyframes spin {\n",
              "    0% {\n",
              "      border-color: transparent;\n",
              "      border-bottom-color: var(--fill-color);\n",
              "      border-left-color: var(--fill-color);\n",
              "    }\n",
              "    20% {\n",
              "      border-color: transparent;\n",
              "      border-left-color: var(--fill-color);\n",
              "      border-top-color: var(--fill-color);\n",
              "    }\n",
              "    30% {\n",
              "      border-color: transparent;\n",
              "      border-left-color: var(--fill-color);\n",
              "      border-top-color: var(--fill-color);\n",
              "      border-right-color: var(--fill-color);\n",
              "    }\n",
              "    40% {\n",
              "      border-color: transparent;\n",
              "      border-right-color: var(--fill-color);\n",
              "      border-top-color: var(--fill-color);\n",
              "    }\n",
              "    60% {\n",
              "      border-color: transparent;\n",
              "      border-right-color: var(--fill-color);\n",
              "    }\n",
              "    80% {\n",
              "      border-color: transparent;\n",
              "      border-right-color: var(--fill-color);\n",
              "      border-bottom-color: var(--fill-color);\n",
              "    }\n",
              "    90% {\n",
              "      border-color: transparent;\n",
              "      border-bottom-color: var(--fill-color);\n",
              "    }\n",
              "  }\n",
              "</style>\n",
              "\n",
              "      <script>\n",
              "        async function quickchart(key) {\n",
              "          const quickchartButtonEl =\n",
              "            document.querySelector('#' + key + ' button');\n",
              "          quickchartButtonEl.disabled = true;  // To prevent multiple clicks.\n",
              "          quickchartButtonEl.classList.add('colab-df-spinner');\n",
              "          try {\n",
              "            const charts = await google.colab.kernel.invokeFunction(\n",
              "                'suggestCharts', [key], {});\n",
              "          } catch (error) {\n",
              "            console.error('Error during call to suggestCharts:', error);\n",
              "          }\n",
              "          quickchartButtonEl.classList.remove('colab-df-spinner');\n",
              "          quickchartButtonEl.classList.add('colab-df-quickchart-complete');\n",
              "        }\n",
              "        (() => {\n",
              "          let quickchartButtonEl =\n",
              "            document.querySelector('#df-591694da-0f0d-45ff-989e-2ebf004e3b0b button');\n",
              "          quickchartButtonEl.style.display =\n",
              "            google.colab.kernel.accessAllowed ? 'block' : 'none';\n",
              "        })();\n",
              "      </script>\n",
              "    </div>\n",
              "\n",
              "    </div>\n",
              "  </div>\n"
            ],
            "application/vnd.google.colaboratory.intrinsic+json": {
              "type": "dataframe",
              "variable_name": "df",
              "summary": "{\n  \"name\": \"df\",\n  \"rows\": 6000,\n  \"fields\": [\n    {\n      \"column\": \"id\",\n      \"properties\": {\n        \"dtype\": \"string\",\n        \"num_unique_values\": 6000,\n        \"samples\": [\n          \"EM100378\",\n          \"EM104593\",\n          \"EM100676\"\n        ],\n        \"semantic_type\": \"\",\n        \"description\": \"\"\n      }\n    },\n    {\n      \"column\": \"text\",\n      \"properties\": {\n        \"dtype\": \"string\",\n        \"num_unique_values\": 6000,\n        \"samples\": [\n          \"work from home help offer agenda please !!\",\n          \"presentation slides attached today invoice verify call !\",\n          \"work from home team agenda free approved urgent slides today voucher .\"\n        ],\n        \"semantic_type\": \"\",\n        \"description\": \"\"\n      }\n    },\n    {\n      \"column\": \"label\",\n      \"properties\": {\n        \"dtype\": \"category\",\n        \"num_unique_values\": 2,\n        \"samples\": [\n          \"ham\",\n          \"spam\"\n        ],\n        \"semantic_type\": \"\",\n        \"description\": \"\"\n      }\n    }\n  ]\n}"
            }
          },
          "metadata": {},
          "execution_count": 2
        }
      ]
    },
    {
      "cell_type": "markdown",
      "source": [
        "##Checking Dataset"
      ],
      "metadata": {
        "id": "AYhZ63Sqeik5"
      }
    },
    {
      "cell_type": "code",
      "source": [
        "df.info()"
      ],
      "metadata": {
        "colab": {
          "base_uri": "https://localhost:8080/"
        },
        "id": "sa13SdsMen7C",
        "outputId": "7907c944-caeb-4648-c0bd-8eb8e2e3a665"
      },
      "execution_count": null,
      "outputs": [
        {
          "output_type": "stream",
          "name": "stdout",
          "text": [
            "<class 'pandas.core.frame.DataFrame'>\n",
            "RangeIndex: 6000 entries, 0 to 5999\n",
            "Data columns (total 3 columns):\n",
            " #   Column  Non-Null Count  Dtype \n",
            "---  ------  --------------  ----- \n",
            " 0   id      6000 non-null   object\n",
            " 1   text    6000 non-null   object\n",
            " 2   label   6000 non-null   object\n",
            "dtypes: object(3)\n",
            "memory usage: 140.8+ KB\n"
          ]
        }
      ]
    },
    {
      "cell_type": "code",
      "source": [
        "df.describe()"
      ],
      "metadata": {
        "colab": {
          "base_uri": "https://localhost:8080/",
          "height": 175
        },
        "id": "AqrUvjbssjh6",
        "outputId": "2b0121e3-8fba-46e3-d174-7ef27553951a"
      },
      "execution_count": null,
      "outputs": [
        {
          "output_type": "execute_result",
          "data": {
            "text/plain": [
              "              id                                               text label\n",
              "count       6000                                               6000  6000\n",
              "unique      6000                                               6000     2\n",
              "top     EM100769  exclusive discount coupon welcome approved hel...   ham\n",
              "freq           1                                                  1  3600"
            ],
            "text/html": [
              "\n",
              "  <div id=\"df-0fe29cec-5083-4878-a03a-432179af2573\" class=\"colab-df-container\">\n",
              "    <div>\n",
              "<style scoped>\n",
              "    .dataframe tbody tr th:only-of-type {\n",
              "        vertical-align: middle;\n",
              "    }\n",
              "\n",
              "    .dataframe tbody tr th {\n",
              "        vertical-align: top;\n",
              "    }\n",
              "\n",
              "    .dataframe thead th {\n",
              "        text-align: right;\n",
              "    }\n",
              "</style>\n",
              "<table border=\"1\" class=\"dataframe\">\n",
              "  <thead>\n",
              "    <tr style=\"text-align: right;\">\n",
              "      <th></th>\n",
              "      <th>id</th>\n",
              "      <th>text</th>\n",
              "      <th>label</th>\n",
              "    </tr>\n",
              "  </thead>\n",
              "  <tbody>\n",
              "    <tr>\n",
              "      <th>count</th>\n",
              "      <td>6000</td>\n",
              "      <td>6000</td>\n",
              "      <td>6000</td>\n",
              "    </tr>\n",
              "    <tr>\n",
              "      <th>unique</th>\n",
              "      <td>6000</td>\n",
              "      <td>6000</td>\n",
              "      <td>2</td>\n",
              "    </tr>\n",
              "    <tr>\n",
              "      <th>top</th>\n",
              "      <td>EM100769</td>\n",
              "      <td>exclusive discount coupon welcome approved hel...</td>\n",
              "      <td>ham</td>\n",
              "    </tr>\n",
              "    <tr>\n",
              "      <th>freq</th>\n",
              "      <td>1</td>\n",
              "      <td>1</td>\n",
              "      <td>3600</td>\n",
              "    </tr>\n",
              "  </tbody>\n",
              "</table>\n",
              "</div>\n",
              "    <div class=\"colab-df-buttons\">\n",
              "\n",
              "  <div class=\"colab-df-container\">\n",
              "    <button class=\"colab-df-convert\" onclick=\"convertToInteractive('df-0fe29cec-5083-4878-a03a-432179af2573')\"\n",
              "            title=\"Convert this dataframe to an interactive table.\"\n",
              "            style=\"display:none;\">\n",
              "\n",
              "  <svg xmlns=\"http://www.w3.org/2000/svg\" height=\"24px\" viewBox=\"0 -960 960 960\">\n",
              "    <path d=\"M120-120v-720h720v720H120Zm60-500h600v-160H180v160Zm220 220h160v-160H400v160Zm0 220h160v-160H400v160ZM180-400h160v-160H180v160Zm440 0h160v-160H620v160ZM180-180h160v-160H180v160Zm440 0h160v-160H620v160Z\"/>\n",
              "  </svg>\n",
              "    </button>\n",
              "\n",
              "  <style>\n",
              "    .colab-df-container {\n",
              "      display:flex;\n",
              "      gap: 12px;\n",
              "    }\n",
              "\n",
              "    .colab-df-convert {\n",
              "      background-color: #E8F0FE;\n",
              "      border: none;\n",
              "      border-radius: 50%;\n",
              "      cursor: pointer;\n",
              "      display: none;\n",
              "      fill: #1967D2;\n",
              "      height: 32px;\n",
              "      padding: 0 0 0 0;\n",
              "      width: 32px;\n",
              "    }\n",
              "\n",
              "    .colab-df-convert:hover {\n",
              "      background-color: #E2EBFA;\n",
              "      box-shadow: 0px 1px 2px rgba(60, 64, 67, 0.3), 0px 1px 3px 1px rgba(60, 64, 67, 0.15);\n",
              "      fill: #174EA6;\n",
              "    }\n",
              "\n",
              "    .colab-df-buttons div {\n",
              "      margin-bottom: 4px;\n",
              "    }\n",
              "\n",
              "    [theme=dark] .colab-df-convert {\n",
              "      background-color: #3B4455;\n",
              "      fill: #D2E3FC;\n",
              "    }\n",
              "\n",
              "    [theme=dark] .colab-df-convert:hover {\n",
              "      background-color: #434B5C;\n",
              "      box-shadow: 0px 1px 3px 1px rgba(0, 0, 0, 0.15);\n",
              "      filter: drop-shadow(0px 1px 2px rgba(0, 0, 0, 0.3));\n",
              "      fill: #FFFFFF;\n",
              "    }\n",
              "  </style>\n",
              "\n",
              "    <script>\n",
              "      const buttonEl =\n",
              "        document.querySelector('#df-0fe29cec-5083-4878-a03a-432179af2573 button.colab-df-convert');\n",
              "      buttonEl.style.display =\n",
              "        google.colab.kernel.accessAllowed ? 'block' : 'none';\n",
              "\n",
              "      async function convertToInteractive(key) {\n",
              "        const element = document.querySelector('#df-0fe29cec-5083-4878-a03a-432179af2573');\n",
              "        const dataTable =\n",
              "          await google.colab.kernel.invokeFunction('convertToInteractive',\n",
              "                                                    [key], {});\n",
              "        if (!dataTable) return;\n",
              "\n",
              "        const docLinkHtml = 'Like what you see? Visit the ' +\n",
              "          '<a target=\"_blank\" href=https://colab.research.google.com/notebooks/data_table.ipynb>data table notebook</a>'\n",
              "          + ' to learn more about interactive tables.';\n",
              "        element.innerHTML = '';\n",
              "        dataTable['output_type'] = 'display_data';\n",
              "        await google.colab.output.renderOutput(dataTable, element);\n",
              "        const docLink = document.createElement('div');\n",
              "        docLink.innerHTML = docLinkHtml;\n",
              "        element.appendChild(docLink);\n",
              "      }\n",
              "    </script>\n",
              "  </div>\n",
              "\n",
              "\n",
              "    <div id=\"df-08451f48-3d4e-47cd-ac67-41edab0f96b8\">\n",
              "      <button class=\"colab-df-quickchart\" onclick=\"quickchart('df-08451f48-3d4e-47cd-ac67-41edab0f96b8')\"\n",
              "                title=\"Suggest charts\"\n",
              "                style=\"display:none;\">\n",
              "\n",
              "<svg xmlns=\"http://www.w3.org/2000/svg\" height=\"24px\"viewBox=\"0 0 24 24\"\n",
              "     width=\"24px\">\n",
              "    <g>\n",
              "        <path d=\"M19 3H5c-1.1 0-2 .9-2 2v14c0 1.1.9 2 2 2h14c1.1 0 2-.9 2-2V5c0-1.1-.9-2-2-2zM9 17H7v-7h2v7zm4 0h-2V7h2v10zm4 0h-2v-4h2v4z\"/>\n",
              "    </g>\n",
              "</svg>\n",
              "      </button>\n",
              "\n",
              "<style>\n",
              "  .colab-df-quickchart {\n",
              "      --bg-color: #E8F0FE;\n",
              "      --fill-color: #1967D2;\n",
              "      --hover-bg-color: #E2EBFA;\n",
              "      --hover-fill-color: #174EA6;\n",
              "      --disabled-fill-color: #AAA;\n",
              "      --disabled-bg-color: #DDD;\n",
              "  }\n",
              "\n",
              "  [theme=dark] .colab-df-quickchart {\n",
              "      --bg-color: #3B4455;\n",
              "      --fill-color: #D2E3FC;\n",
              "      --hover-bg-color: #434B5C;\n",
              "      --hover-fill-color: #FFFFFF;\n",
              "      --disabled-bg-color: #3B4455;\n",
              "      --disabled-fill-color: #666;\n",
              "  }\n",
              "\n",
              "  .colab-df-quickchart {\n",
              "    background-color: var(--bg-color);\n",
              "    border: none;\n",
              "    border-radius: 50%;\n",
              "    cursor: pointer;\n",
              "    display: none;\n",
              "    fill: var(--fill-color);\n",
              "    height: 32px;\n",
              "    padding: 0;\n",
              "    width: 32px;\n",
              "  }\n",
              "\n",
              "  .colab-df-quickchart:hover {\n",
              "    background-color: var(--hover-bg-color);\n",
              "    box-shadow: 0 1px 2px rgba(60, 64, 67, 0.3), 0 1px 3px 1px rgba(60, 64, 67, 0.15);\n",
              "    fill: var(--button-hover-fill-color);\n",
              "  }\n",
              "\n",
              "  .colab-df-quickchart-complete:disabled,\n",
              "  .colab-df-quickchart-complete:disabled:hover {\n",
              "    background-color: var(--disabled-bg-color);\n",
              "    fill: var(--disabled-fill-color);\n",
              "    box-shadow: none;\n",
              "  }\n",
              "\n",
              "  .colab-df-spinner {\n",
              "    border: 2px solid var(--fill-color);\n",
              "    border-color: transparent;\n",
              "    border-bottom-color: var(--fill-color);\n",
              "    animation:\n",
              "      spin 1s steps(1) infinite;\n",
              "  }\n",
              "\n",
              "  @keyframes spin {\n",
              "    0% {\n",
              "      border-color: transparent;\n",
              "      border-bottom-color: var(--fill-color);\n",
              "      border-left-color: var(--fill-color);\n",
              "    }\n",
              "    20% {\n",
              "      border-color: transparent;\n",
              "      border-left-color: var(--fill-color);\n",
              "      border-top-color: var(--fill-color);\n",
              "    }\n",
              "    30% {\n",
              "      border-color: transparent;\n",
              "      border-left-color: var(--fill-color);\n",
              "      border-top-color: var(--fill-color);\n",
              "      border-right-color: var(--fill-color);\n",
              "    }\n",
              "    40% {\n",
              "      border-color: transparent;\n",
              "      border-right-color: var(--fill-color);\n",
              "      border-top-color: var(--fill-color);\n",
              "    }\n",
              "    60% {\n",
              "      border-color: transparent;\n",
              "      border-right-color: var(--fill-color);\n",
              "    }\n",
              "    80% {\n",
              "      border-color: transparent;\n",
              "      border-right-color: var(--fill-color);\n",
              "      border-bottom-color: var(--fill-color);\n",
              "    }\n",
              "    90% {\n",
              "      border-color: transparent;\n",
              "      border-bottom-color: var(--fill-color);\n",
              "    }\n",
              "  }\n",
              "</style>\n",
              "\n",
              "      <script>\n",
              "        async function quickchart(key) {\n",
              "          const quickchartButtonEl =\n",
              "            document.querySelector('#' + key + ' button');\n",
              "          quickchartButtonEl.disabled = true;  // To prevent multiple clicks.\n",
              "          quickchartButtonEl.classList.add('colab-df-spinner');\n",
              "          try {\n",
              "            const charts = await google.colab.kernel.invokeFunction(\n",
              "                'suggestCharts', [key], {});\n",
              "          } catch (error) {\n",
              "            console.error('Error during call to suggestCharts:', error);\n",
              "          }\n",
              "          quickchartButtonEl.classList.remove('colab-df-spinner');\n",
              "          quickchartButtonEl.classList.add('colab-df-quickchart-complete');\n",
              "        }\n",
              "        (() => {\n",
              "          let quickchartButtonEl =\n",
              "            document.querySelector('#df-08451f48-3d4e-47cd-ac67-41edab0f96b8 button');\n",
              "          quickchartButtonEl.style.display =\n",
              "            google.colab.kernel.accessAllowed ? 'block' : 'none';\n",
              "        })();\n",
              "      </script>\n",
              "    </div>\n",
              "\n",
              "    </div>\n",
              "  </div>\n"
            ],
            "application/vnd.google.colaboratory.intrinsic+json": {
              "type": "dataframe",
              "summary": "{\n  \"name\": \"df\",\n  \"rows\": 4,\n  \"fields\": [\n    {\n      \"column\": \"id\",\n      \"properties\": {\n        \"dtype\": \"string\",\n        \"num_unique_values\": 3,\n        \"samples\": [\n          \"6000\",\n          \"EM100769\",\n          \"1\"\n        ],\n        \"semantic_type\": \"\",\n        \"description\": \"\"\n      }\n    },\n    {\n      \"column\": \"text\",\n      \"properties\": {\n        \"dtype\": \"string\",\n        \"num_unique_values\": 3,\n        \"samples\": [\n          \"6000\",\n          \"exclusive discount coupon welcome approved help tomorrow meeting offer update\",\n          \"1\"\n        ],\n        \"semantic_type\": \"\",\n        \"description\": \"\"\n      }\n    },\n    {\n      \"column\": \"label\",\n      \"properties\": {\n        \"dtype\": \"string\",\n        \"num_unique_values\": 4,\n        \"samples\": [\n          2,\n          \"3600\",\n          \"6000\"\n        ],\n        \"semantic_type\": \"\",\n        \"description\": \"\"\n      }\n    }\n  ]\n}"
            }
          },
          "metadata": {},
          "execution_count": 4
        }
      ]
    },
    {
      "cell_type": "markdown",
      "source": [
        "##Data Cleaning and Preprocessing"
      ],
      "metadata": {
        "id": "eNZ1EMxAs5HB"
      }
    },
    {
      "cell_type": "markdown",
      "source": [
        "##Handling Missing Data:"
      ],
      "metadata": {
        "id": "jkZjVrNJtu9X"
      }
    },
    {
      "cell_type": "code",
      "source": [
        "# Check for null or empty values\n",
        "print(\"Missing values before handling:\")\n",
        "print(df.isnull().sum())\n",
        "\n",
        "# Assuming 'text' is the column containing the email text\n",
        "# Removing rows with missing text (if any)\n",
        "df.dropna(subset=['text'], inplace=True)\n",
        "\n",
        "print(\"\\nMissing values after handling:\")\n",
        "print(df.isnull().sum())"
      ],
      "metadata": {
        "colab": {
          "base_uri": "https://localhost:8080/"
        },
        "id": "ALQqNcuitI36",
        "outputId": "98a026b9-672b-4972-e820-cf3df748686e"
      },
      "execution_count": null,
      "outputs": [
        {
          "output_type": "stream",
          "name": "stdout",
          "text": [
            "Missing values before handling:\n",
            "id       0\n",
            "text     0\n",
            "label    0\n",
            "dtype: int64\n",
            "\n",
            "Missing values after handling:\n",
            "id       0\n",
            "text     0\n",
            "label    0\n",
            "dtype: int64\n"
          ]
        }
      ]
    },
    {
      "cell_type": "markdown",
      "source": [
        "##Remove unnecessary columns"
      ],
      "metadata": {
        "id": "2bwK0KZ7tr1K"
      }
    },
    {
      "cell_type": "code",
      "source": [
        "# Remove unnecessary columns (assuming 'id' is unnecessary)\n",
        "df.drop('id', axis=1, inplace=True)"
      ],
      "metadata": {
        "id": "uzT6eucmtP2A"
      },
      "execution_count": null,
      "outputs": []
    },
    {
      "cell_type": "markdown",
      "source": [
        "## Label Encoding"
      ],
      "metadata": {
        "id": "CZnpakYCtnS_"
      }
    },
    {
      "cell_type": "code",
      "source": [
        "\n",
        "# Convert 'spam' to 1 and 'ham' to 0\n",
        "df['label'] = df['label'].map({'spam': 1, 'ham': 0})\n",
        "\n",
        "print(\"\\nDataFrame after cleaning and encoding:\")\n",
        "display(df.head())"
      ],
      "metadata": {
        "colab": {
          "base_uri": "https://localhost:8080/",
          "height": 241
        },
        "id": "OdapUL2jtMp1",
        "outputId": "94795d3d-1f5f-486e-beba-80512a33d7f4"
      },
      "execution_count": null,
      "outputs": [
        {
          "output_type": "stream",
          "name": "stdout",
          "text": [
            "\n",
            "DataFrame after cleaning and encoding:\n"
          ]
        },
        {
          "output_type": "display_data",
          "data": {
            "text/plain": [
              "                                                text  label\n",
              "0  limited time offer project update support help...      1\n",
              "1        client feedback summary verify limited team      0\n",
              "2  unlock bonus today welcome schedule welcome ca...      1\n",
              "3  exclusive discount coupon limited voucher veri...      1\n",
              "4  deployment was successful discount invoice ple...      0"
            ],
            "text/html": [
              "\n",
              "  <div id=\"df-2b1944f9-4477-4b18-a465-d936f2ac49bf\" class=\"colab-df-container\">\n",
              "    <div>\n",
              "<style scoped>\n",
              "    .dataframe tbody tr th:only-of-type {\n",
              "        vertical-align: middle;\n",
              "    }\n",
              "\n",
              "    .dataframe tbody tr th {\n",
              "        vertical-align: top;\n",
              "    }\n",
              "\n",
              "    .dataframe thead th {\n",
              "        text-align: right;\n",
              "    }\n",
              "</style>\n",
              "<table border=\"1\" class=\"dataframe\">\n",
              "  <thead>\n",
              "    <tr style=\"text-align: right;\">\n",
              "      <th></th>\n",
              "      <th>text</th>\n",
              "      <th>label</th>\n",
              "    </tr>\n",
              "  </thead>\n",
              "  <tbody>\n",
              "    <tr>\n",
              "      <th>0</th>\n",
              "      <td>limited time offer project update support help...</td>\n",
              "      <td>1</td>\n",
              "    </tr>\n",
              "    <tr>\n",
              "      <th>1</th>\n",
              "      <td>client feedback summary verify limited team</td>\n",
              "      <td>0</td>\n",
              "    </tr>\n",
              "    <tr>\n",
              "      <th>2</th>\n",
              "      <td>unlock bonus today welcome schedule welcome ca...</td>\n",
              "      <td>1</td>\n",
              "    </tr>\n",
              "    <tr>\n",
              "      <th>3</th>\n",
              "      <td>exclusive discount coupon limited voucher veri...</td>\n",
              "      <td>1</td>\n",
              "    </tr>\n",
              "    <tr>\n",
              "      <th>4</th>\n",
              "      <td>deployment was successful discount invoice ple...</td>\n",
              "      <td>0</td>\n",
              "    </tr>\n",
              "  </tbody>\n",
              "</table>\n",
              "</div>\n",
              "    <div class=\"colab-df-buttons\">\n",
              "\n",
              "  <div class=\"colab-df-container\">\n",
              "    <button class=\"colab-df-convert\" onclick=\"convertToInteractive('df-2b1944f9-4477-4b18-a465-d936f2ac49bf')\"\n",
              "            title=\"Convert this dataframe to an interactive table.\"\n",
              "            style=\"display:none;\">\n",
              "\n",
              "  <svg xmlns=\"http://www.w3.org/2000/svg\" height=\"24px\" viewBox=\"0 -960 960 960\">\n",
              "    <path d=\"M120-120v-720h720v720H120Zm60-500h600v-160H180v160Zm220 220h160v-160H400v160Zm0 220h160v-160H400v160ZM180-400h160v-160H180v160Zm440 0h160v-160H620v160ZM180-180h160v-160H180v160Zm440 0h160v-160H620v160Z\"/>\n",
              "  </svg>\n",
              "    </button>\n",
              "\n",
              "  <style>\n",
              "    .colab-df-container {\n",
              "      display:flex;\n",
              "      gap: 12px;\n",
              "    }\n",
              "\n",
              "    .colab-df-convert {\n",
              "      background-color: #E8F0FE;\n",
              "      border: none;\n",
              "      border-radius: 50%;\n",
              "      cursor: pointer;\n",
              "      display: none;\n",
              "      fill: #1967D2;\n",
              "      height: 32px;\n",
              "      padding: 0 0 0 0;\n",
              "      width: 32px;\n",
              "    }\n",
              "\n",
              "    .colab-df-convert:hover {\n",
              "      background-color: #E2EBFA;\n",
              "      box-shadow: 0px 1px 2px rgba(60, 64, 67, 0.3), 0px 1px 3px 1px rgba(60, 64, 67, 0.15);\n",
              "      fill: #174EA6;\n",
              "    }\n",
              "\n",
              "    .colab-df-buttons div {\n",
              "      margin-bottom: 4px;\n",
              "    }\n",
              "\n",
              "    [theme=dark] .colab-df-convert {\n",
              "      background-color: #3B4455;\n",
              "      fill: #D2E3FC;\n",
              "    }\n",
              "\n",
              "    [theme=dark] .colab-df-convert:hover {\n",
              "      background-color: #434B5C;\n",
              "      box-shadow: 0px 1px 3px 1px rgba(0, 0, 0, 0.15);\n",
              "      filter: drop-shadow(0px 1px 2px rgba(0, 0, 0, 0.3));\n",
              "      fill: #FFFFFF;\n",
              "    }\n",
              "  </style>\n",
              "\n",
              "    <script>\n",
              "      const buttonEl =\n",
              "        document.querySelector('#df-2b1944f9-4477-4b18-a465-d936f2ac49bf button.colab-df-convert');\n",
              "      buttonEl.style.display =\n",
              "        google.colab.kernel.accessAllowed ? 'block' : 'none';\n",
              "\n",
              "      async function convertToInteractive(key) {\n",
              "        const element = document.querySelector('#df-2b1944f9-4477-4b18-a465-d936f2ac49bf');\n",
              "        const dataTable =\n",
              "          await google.colab.kernel.invokeFunction('convertToInteractive',\n",
              "                                                    [key], {});\n",
              "        if (!dataTable) return;\n",
              "\n",
              "        const docLinkHtml = 'Like what you see? Visit the ' +\n",
              "          '<a target=\"_blank\" href=https://colab.research.google.com/notebooks/data_table.ipynb>data table notebook</a>'\n",
              "          + ' to learn more about interactive tables.';\n",
              "        element.innerHTML = '';\n",
              "        dataTable['output_type'] = 'display_data';\n",
              "        await google.colab.output.renderOutput(dataTable, element);\n",
              "        const docLink = document.createElement('div');\n",
              "        docLink.innerHTML = docLinkHtml;\n",
              "        element.appendChild(docLink);\n",
              "      }\n",
              "    </script>\n",
              "  </div>\n",
              "\n",
              "\n",
              "    <div id=\"df-e4a4597b-ef48-4090-b09e-7afe256d7eaf\">\n",
              "      <button class=\"colab-df-quickchart\" onclick=\"quickchart('df-e4a4597b-ef48-4090-b09e-7afe256d7eaf')\"\n",
              "                title=\"Suggest charts\"\n",
              "                style=\"display:none;\">\n",
              "\n",
              "<svg xmlns=\"http://www.w3.org/2000/svg\" height=\"24px\"viewBox=\"0 0 24 24\"\n",
              "     width=\"24px\">\n",
              "    <g>\n",
              "        <path d=\"M19 3H5c-1.1 0-2 .9-2 2v14c0 1.1.9 2 2 2h14c1.1 0 2-.9 2-2V5c0-1.1-.9-2-2-2zM9 17H7v-7h2v7zm4 0h-2V7h2v10zm4 0h-2v-4h2v4z\"/>\n",
              "    </g>\n",
              "</svg>\n",
              "      </button>\n",
              "\n",
              "<style>\n",
              "  .colab-df-quickchart {\n",
              "      --bg-color: #E8F0FE;\n",
              "      --fill-color: #1967D2;\n",
              "      --hover-bg-color: #E2EBFA;\n",
              "      --hover-fill-color: #174EA6;\n",
              "      --disabled-fill-color: #AAA;\n",
              "      --disabled-bg-color: #DDD;\n",
              "  }\n",
              "\n",
              "  [theme=dark] .colab-df-quickchart {\n",
              "      --bg-color: #3B4455;\n",
              "      --fill-color: #D2E3FC;\n",
              "      --hover-bg-color: #434B5C;\n",
              "      --hover-fill-color: #FFFFFF;\n",
              "      --disabled-bg-color: #3B4455;\n",
              "      --disabled-fill-color: #666;\n",
              "  }\n",
              "\n",
              "  .colab-df-quickchart {\n",
              "    background-color: var(--bg-color);\n",
              "    border: none;\n",
              "    border-radius: 50%;\n",
              "    cursor: pointer;\n",
              "    display: none;\n",
              "    fill: var(--fill-color);\n",
              "    height: 32px;\n",
              "    padding: 0;\n",
              "    width: 32px;\n",
              "  }\n",
              "\n",
              "  .colab-df-quickchart:hover {\n",
              "    background-color: var(--hover-bg-color);\n",
              "    box-shadow: 0 1px 2px rgba(60, 64, 67, 0.3), 0 1px 3px 1px rgba(60, 64, 67, 0.15);\n",
              "    fill: var(--button-hover-fill-color);\n",
              "  }\n",
              "\n",
              "  .colab-df-quickchart-complete:disabled,\n",
              "  .colab-df-quickchart-complete:disabled:hover {\n",
              "    background-color: var(--disabled-bg-color);\n",
              "    fill: var(--disabled-fill-color);\n",
              "    box-shadow: none;\n",
              "  }\n",
              "\n",
              "  .colab-df-spinner {\n",
              "    border: 2px solid var(--fill-color);\n",
              "    border-color: transparent;\n",
              "    border-bottom-color: var(--fill-color);\n",
              "    animation:\n",
              "      spin 1s steps(1) infinite;\n",
              "  }\n",
              "\n",
              "  @keyframes spin {\n",
              "    0% {\n",
              "      border-color: transparent;\n",
              "      border-bottom-color: var(--fill-color);\n",
              "      border-left-color: var(--fill-color);\n",
              "    }\n",
              "    20% {\n",
              "      border-color: transparent;\n",
              "      border-left-color: var(--fill-color);\n",
              "      border-top-color: var(--fill-color);\n",
              "    }\n",
              "    30% {\n",
              "      border-color: transparent;\n",
              "      border-left-color: var(--fill-color);\n",
              "      border-top-color: var(--fill-color);\n",
              "      border-right-color: var(--fill-color);\n",
              "    }\n",
              "    40% {\n",
              "      border-color: transparent;\n",
              "      border-right-color: var(--fill-color);\n",
              "      border-top-color: var(--fill-color);\n",
              "    }\n",
              "    60% {\n",
              "      border-color: transparent;\n",
              "      border-right-color: var(--fill-color);\n",
              "    }\n",
              "    80% {\n",
              "      border-color: transparent;\n",
              "      border-right-color: var(--fill-color);\n",
              "      border-bottom-color: var(--fill-color);\n",
              "    }\n",
              "    90% {\n",
              "      border-color: transparent;\n",
              "      border-bottom-color: var(--fill-color);\n",
              "    }\n",
              "  }\n",
              "</style>\n",
              "\n",
              "      <script>\n",
              "        async function quickchart(key) {\n",
              "          const quickchartButtonEl =\n",
              "            document.querySelector('#' + key + ' button');\n",
              "          quickchartButtonEl.disabled = true;  // To prevent multiple clicks.\n",
              "          quickchartButtonEl.classList.add('colab-df-spinner');\n",
              "          try {\n",
              "            const charts = await google.colab.kernel.invokeFunction(\n",
              "                'suggestCharts', [key], {});\n",
              "          } catch (error) {\n",
              "            console.error('Error during call to suggestCharts:', error);\n",
              "          }\n",
              "          quickchartButtonEl.classList.remove('colab-df-spinner');\n",
              "          quickchartButtonEl.classList.add('colab-df-quickchart-complete');\n",
              "        }\n",
              "        (() => {\n",
              "          let quickchartButtonEl =\n",
              "            document.querySelector('#df-e4a4597b-ef48-4090-b09e-7afe256d7eaf button');\n",
              "          quickchartButtonEl.style.display =\n",
              "            google.colab.kernel.accessAllowed ? 'block' : 'none';\n",
              "        })();\n",
              "      </script>\n",
              "    </div>\n",
              "\n",
              "    </div>\n",
              "  </div>\n"
            ],
            "application/vnd.google.colaboratory.intrinsic+json": {
              "type": "dataframe",
              "summary": "{\n  \"name\": \"display(df\",\n  \"rows\": 5,\n  \"fields\": [\n    {\n      \"column\": \"text\",\n      \"properties\": {\n        \"dtype\": \"string\",\n        \"num_unique_values\": 5,\n        \"samples\": [\n          \"client feedback summary verify limited team\",\n          \"deployment was successful discount invoice please !\",\n          \"unlock bonus today welcome schedule welcome call limited !!\"\n        ],\n        \"semantic_type\": \"\",\n        \"description\": \"\"\n      }\n    },\n    {\n      \"column\": \"label\",\n      \"properties\": {\n        \"dtype\": \"number\",\n        \"std\": 0,\n        \"min\": 0,\n        \"max\": 1,\n        \"num_unique_values\": 2,\n        \"samples\": [\n          0,\n          1\n        ],\n        \"semantic_type\": \"\",\n        \"description\": \"\"\n      }\n    }\n  ]\n}"
            }
          },
          "metadata": {}
        }
      ]
    },
    {
      "cell_type": "markdown",
      "source": [
        "##Text Preprocessing"
      ],
      "metadata": {
        "id": "OV0JZ4TctyY-"
      }
    },
    {
      "cell_type": "markdown",
      "source": [
        "##Lowercasing:"
      ],
      "metadata": {
        "id": "tZwlEML5uQoq"
      }
    },
    {
      "cell_type": "code",
      "source": [
        "import re\n",
        "\n",
        "# Lowercasing\n",
        "df['text'] = df['text'].str.lower()\n"
      ],
      "metadata": {
        "id": "PCNIOdIqt6iM"
      },
      "execution_count": null,
      "outputs": []
    },
    {
      "cell_type": "markdown",
      "source": [
        "## Removing Punctuation and Special Characters"
      ],
      "metadata": {
        "id": "xG6ZahIxuJ6_"
      }
    },
    {
      "cell_type": "code",
      "source": [
        "\n",
        "df['text'] = df['text'].apply(lambda x: re.sub(r'[^a-zA-Z0-9\\s]', '', x))\n",
        "\n",
        "# Removing extra whitespace\n",
        "df['text'] = df['text'].apply(lambda x: re.sub(r'\\s+', ' ', x).strip())\n",
        "\n",
        "print(\"\\nDataFrame after text preprocessing:\")\n",
        "display(df.head())"
      ],
      "metadata": {
        "colab": {
          "base_uri": "https://localhost:8080/",
          "height": 241
        },
        "id": "jFmqyd42t5kS",
        "outputId": "1c5d5aec-37b4-4364-f31c-5882e96311a9"
      },
      "execution_count": null,
      "outputs": [
        {
          "output_type": "stream",
          "name": "stdout",
          "text": [
            "\n",
            "DataFrame after text preprocessing:\n"
          ]
        },
        {
          "output_type": "display_data",
          "data": {
            "text/plain": [
              "                                                text  label\n",
              "0  limited time offer project update support help...      1\n",
              "1        client feedback summary verify limited team      0\n",
              "2  unlock bonus today welcome schedule welcome ca...      1\n",
              "3  exclusive discount coupon limited voucher veri...      1\n",
              "4  deployment was successful discount invoice please      0"
            ],
            "text/html": [
              "\n",
              "  <div id=\"df-7fe6ca24-3421-4909-a4ca-93802f4b72a1\" class=\"colab-df-container\">\n",
              "    <div>\n",
              "<style scoped>\n",
              "    .dataframe tbody tr th:only-of-type {\n",
              "        vertical-align: middle;\n",
              "    }\n",
              "\n",
              "    .dataframe tbody tr th {\n",
              "        vertical-align: top;\n",
              "    }\n",
              "\n",
              "    .dataframe thead th {\n",
              "        text-align: right;\n",
              "    }\n",
              "</style>\n",
              "<table border=\"1\" class=\"dataframe\">\n",
              "  <thead>\n",
              "    <tr style=\"text-align: right;\">\n",
              "      <th></th>\n",
              "      <th>text</th>\n",
              "      <th>label</th>\n",
              "    </tr>\n",
              "  </thead>\n",
              "  <tbody>\n",
              "    <tr>\n",
              "      <th>0</th>\n",
              "      <td>limited time offer project update support help...</td>\n",
              "      <td>1</td>\n",
              "    </tr>\n",
              "    <tr>\n",
              "      <th>1</th>\n",
              "      <td>client feedback summary verify limited team</td>\n",
              "      <td>0</td>\n",
              "    </tr>\n",
              "    <tr>\n",
              "      <th>2</th>\n",
              "      <td>unlock bonus today welcome schedule welcome ca...</td>\n",
              "      <td>1</td>\n",
              "    </tr>\n",
              "    <tr>\n",
              "      <th>3</th>\n",
              "      <td>exclusive discount coupon limited voucher veri...</td>\n",
              "      <td>1</td>\n",
              "    </tr>\n",
              "    <tr>\n",
              "      <th>4</th>\n",
              "      <td>deployment was successful discount invoice please</td>\n",
              "      <td>0</td>\n",
              "    </tr>\n",
              "  </tbody>\n",
              "</table>\n",
              "</div>\n",
              "    <div class=\"colab-df-buttons\">\n",
              "\n",
              "  <div class=\"colab-df-container\">\n",
              "    <button class=\"colab-df-convert\" onclick=\"convertToInteractive('df-7fe6ca24-3421-4909-a4ca-93802f4b72a1')\"\n",
              "            title=\"Convert this dataframe to an interactive table.\"\n",
              "            style=\"display:none;\">\n",
              "\n",
              "  <svg xmlns=\"http://www.w3.org/2000/svg\" height=\"24px\" viewBox=\"0 -960 960 960\">\n",
              "    <path d=\"M120-120v-720h720v720H120Zm60-500h600v-160H180v160Zm220 220h160v-160H400v160Zm0 220h160v-160H400v160ZM180-400h160v-160H180v160Zm440 0h160v-160H620v160ZM180-180h160v-160H180v160Zm440 0h160v-160H620v160Z\"/>\n",
              "  </svg>\n",
              "    </button>\n",
              "\n",
              "  <style>\n",
              "    .colab-df-container {\n",
              "      display:flex;\n",
              "      gap: 12px;\n",
              "    }\n",
              "\n",
              "    .colab-df-convert {\n",
              "      background-color: #E8F0FE;\n",
              "      border: none;\n",
              "      border-radius: 50%;\n",
              "      cursor: pointer;\n",
              "      display: none;\n",
              "      fill: #1967D2;\n",
              "      height: 32px;\n",
              "      padding: 0 0 0 0;\n",
              "      width: 32px;\n",
              "    }\n",
              "\n",
              "    .colab-df-convert:hover {\n",
              "      background-color: #E2EBFA;\n",
              "      box-shadow: 0px 1px 2px rgba(60, 64, 67, 0.3), 0px 1px 3px 1px rgba(60, 64, 67, 0.15);\n",
              "      fill: #174EA6;\n",
              "    }\n",
              "\n",
              "    .colab-df-buttons div {\n",
              "      margin-bottom: 4px;\n",
              "    }\n",
              "\n",
              "    [theme=dark] .colab-df-convert {\n",
              "      background-color: #3B4455;\n",
              "      fill: #D2E3FC;\n",
              "    }\n",
              "\n",
              "    [theme=dark] .colab-df-convert:hover {\n",
              "      background-color: #434B5C;\n",
              "      box-shadow: 0px 1px 3px 1px rgba(0, 0, 0, 0.15);\n",
              "      filter: drop-shadow(0px 1px 2px rgba(0, 0, 0, 0.3));\n",
              "      fill: #FFFFFF;\n",
              "    }\n",
              "  </style>\n",
              "\n",
              "    <script>\n",
              "      const buttonEl =\n",
              "        document.querySelector('#df-7fe6ca24-3421-4909-a4ca-93802f4b72a1 button.colab-df-convert');\n",
              "      buttonEl.style.display =\n",
              "        google.colab.kernel.accessAllowed ? 'block' : 'none';\n",
              "\n",
              "      async function convertToInteractive(key) {\n",
              "        const element = document.querySelector('#df-7fe6ca24-3421-4909-a4ca-93802f4b72a1');\n",
              "        const dataTable =\n",
              "          await google.colab.kernel.invokeFunction('convertToInteractive',\n",
              "                                                    [key], {});\n",
              "        if (!dataTable) return;\n",
              "\n",
              "        const docLinkHtml = 'Like what you see? Visit the ' +\n",
              "          '<a target=\"_blank\" href=https://colab.research.google.com/notebooks/data_table.ipynb>data table notebook</a>'\n",
              "          + ' to learn more about interactive tables.';\n",
              "        element.innerHTML = '';\n",
              "        dataTable['output_type'] = 'display_data';\n",
              "        await google.colab.output.renderOutput(dataTable, element);\n",
              "        const docLink = document.createElement('div');\n",
              "        docLink.innerHTML = docLinkHtml;\n",
              "        element.appendChild(docLink);\n",
              "      }\n",
              "    </script>\n",
              "  </div>\n",
              "\n",
              "\n",
              "    <div id=\"df-79e102a8-ee83-47d1-b76d-eaf6b8282f9e\">\n",
              "      <button class=\"colab-df-quickchart\" onclick=\"quickchart('df-79e102a8-ee83-47d1-b76d-eaf6b8282f9e')\"\n",
              "                title=\"Suggest charts\"\n",
              "                style=\"display:none;\">\n",
              "\n",
              "<svg xmlns=\"http://www.w3.org/2000/svg\" height=\"24px\"viewBox=\"0 0 24 24\"\n",
              "     width=\"24px\">\n",
              "    <g>\n",
              "        <path d=\"M19 3H5c-1.1 0-2 .9-2 2v14c0 1.1.9 2 2 2h14c1.1 0 2-.9 2-2V5c0-1.1-.9-2-2-2zM9 17H7v-7h2v7zm4 0h-2V7h2v10zm4 0h-2v-4h2v4z\"/>\n",
              "    </g>\n",
              "</svg>\n",
              "      </button>\n",
              "\n",
              "<style>\n",
              "  .colab-df-quickchart {\n",
              "      --bg-color: #E8F0FE;\n",
              "      --fill-color: #1967D2;\n",
              "      --hover-bg-color: #E2EBFA;\n",
              "      --hover-fill-color: #174EA6;\n",
              "      --disabled-fill-color: #AAA;\n",
              "      --disabled-bg-color: #DDD;\n",
              "  }\n",
              "\n",
              "  [theme=dark] .colab-df-quickchart {\n",
              "      --bg-color: #3B4455;\n",
              "      --fill-color: #D2E3FC;\n",
              "      --hover-bg-color: #434B5C;\n",
              "      --hover-fill-color: #FFFFFF;\n",
              "      --disabled-bg-color: #3B4455;\n",
              "      --disabled-fill-color: #666;\n",
              "  }\n",
              "\n",
              "  .colab-df-quickchart {\n",
              "    background-color: var(--bg-color);\n",
              "    border: none;\n",
              "    border-radius: 50%;\n",
              "    cursor: pointer;\n",
              "    display: none;\n",
              "    fill: var(--fill-color);\n",
              "    height: 32px;\n",
              "    padding: 0;\n",
              "    width: 32px;\n",
              "  }\n",
              "\n",
              "  .colab-df-quickchart:hover {\n",
              "    background-color: var(--hover-bg-color);\n",
              "    box-shadow: 0 1px 2px rgba(60, 64, 67, 0.3), 0 1px 3px 1px rgba(60, 64, 67, 0.15);\n",
              "    fill: var(--button-hover-fill-color);\n",
              "  }\n",
              "\n",
              "  .colab-df-quickchart-complete:disabled,\n",
              "  .colab-df-quickchart-complete:disabled:hover {\n",
              "    background-color: var(--disabled-bg-color);\n",
              "    fill: var(--disabled-fill-color);\n",
              "    box-shadow: none;\n",
              "  }\n",
              "\n",
              "  .colab-df-spinner {\n",
              "    border: 2px solid var(--fill-color);\n",
              "    border-color: transparent;\n",
              "    border-bottom-color: var(--fill-color);\n",
              "    animation:\n",
              "      spin 1s steps(1) infinite;\n",
              "  }\n",
              "\n",
              "  @keyframes spin {\n",
              "    0% {\n",
              "      border-color: transparent;\n",
              "      border-bottom-color: var(--fill-color);\n",
              "      border-left-color: var(--fill-color);\n",
              "    }\n",
              "    20% {\n",
              "      border-color: transparent;\n",
              "      border-left-color: var(--fill-color);\n",
              "      border-top-color: var(--fill-color);\n",
              "    }\n",
              "    30% {\n",
              "      border-color: transparent;\n",
              "      border-left-color: var(--fill-color);\n",
              "      border-top-color: var(--fill-color);\n",
              "      border-right-color: var(--fill-color);\n",
              "    }\n",
              "    40% {\n",
              "      border-color: transparent;\n",
              "      border-right-color: var(--fill-color);\n",
              "      border-top-color: var(--fill-color);\n",
              "    }\n",
              "    60% {\n",
              "      border-color: transparent;\n",
              "      border-right-color: var(--fill-color);\n",
              "    }\n",
              "    80% {\n",
              "      border-color: transparent;\n",
              "      border-right-color: var(--fill-color);\n",
              "      border-bottom-color: var(--fill-color);\n",
              "    }\n",
              "    90% {\n",
              "      border-color: transparent;\n",
              "      border-bottom-color: var(--fill-color);\n",
              "    }\n",
              "  }\n",
              "</style>\n",
              "\n",
              "      <script>\n",
              "        async function quickchart(key) {\n",
              "          const quickchartButtonEl =\n",
              "            document.querySelector('#' + key + ' button');\n",
              "          quickchartButtonEl.disabled = true;  // To prevent multiple clicks.\n",
              "          quickchartButtonEl.classList.add('colab-df-spinner');\n",
              "          try {\n",
              "            const charts = await google.colab.kernel.invokeFunction(\n",
              "                'suggestCharts', [key], {});\n",
              "          } catch (error) {\n",
              "            console.error('Error during call to suggestCharts:', error);\n",
              "          }\n",
              "          quickchartButtonEl.classList.remove('colab-df-spinner');\n",
              "          quickchartButtonEl.classList.add('colab-df-quickchart-complete');\n",
              "        }\n",
              "        (() => {\n",
              "          let quickchartButtonEl =\n",
              "            document.querySelector('#df-79e102a8-ee83-47d1-b76d-eaf6b8282f9e button');\n",
              "          quickchartButtonEl.style.display =\n",
              "            google.colab.kernel.accessAllowed ? 'block' : 'none';\n",
              "        })();\n",
              "      </script>\n",
              "    </div>\n",
              "\n",
              "    </div>\n",
              "  </div>\n"
            ],
            "application/vnd.google.colaboratory.intrinsic+json": {
              "type": "dataframe",
              "summary": "{\n  \"name\": \"display(df\",\n  \"rows\": 5,\n  \"fields\": [\n    {\n      \"column\": \"text\",\n      \"properties\": {\n        \"dtype\": \"string\",\n        \"num_unique_values\": 5,\n        \"samples\": [\n          \"client feedback summary verify limited team\",\n          \"deployment was successful discount invoice please\",\n          \"unlock bonus today welcome schedule welcome call limited\"\n        ],\n        \"semantic_type\": \"\",\n        \"description\": \"\"\n      }\n    },\n    {\n      \"column\": \"label\",\n      \"properties\": {\n        \"dtype\": \"number\",\n        \"std\": 0,\n        \"min\": 0,\n        \"max\": 1,\n        \"num_unique_values\": 2,\n        \"samples\": [\n          0,\n          1\n        ],\n        \"semantic_type\": \"\",\n        \"description\": \"\"\n      }\n    }\n  ]\n}"
            }
          },
          "metadata": {}
        }
      ]
    },
    {
      "cell_type": "markdown",
      "source": [
        "### Tokenization (Conceptual)\n",
        "# Tokenization is the process of breaking down the text into individual words or tokens.\n",
        "# While we won't explicitly tokenize in this step for simplicity with TfidfVectorizer,\n",
        "# it's an important concept in text preprocessing. TfidfVectorizer handles tokenization internally."
      ],
      "metadata": {
        "id": "HNhX3s03uhMU"
      }
    },
    {
      "cell_type": "code",
      "source": [
        "from sklearn.feature_extraction.text import TfidfVectorizer\n",
        "\n",
        "# Initialize TfidfVectorizer with stop word removal\n",
        "tfidf_vectorizer = TfidfVectorizer(stop_words='english')"
      ],
      "metadata": {
        "id": "9qLe9qqZvTYf"
      },
      "execution_count": null,
      "outputs": []
    },
    {
      "cell_type": "markdown",
      "source": [
        "##Feature Extraction"
      ],
      "metadata": {
        "id": "MKz_yyH5v3fH"
      }
    },
    {
      "cell_type": "markdown",
      "source": [
        "##Why TF-IDF?\n",
        "Machine learning models cannot directly interpret text data. They require numerical input. Therefore, we need techniques to convert text into a numerical representation. TF-IDF (Term Frequency–Inverse Document Frequency) is a popular technique for this purpose.\n",
        "\n",
        "TF-IDF creates a numerical matrix where each row represents a document (in this case, an email) and each column represents a unique word in the corpus. The value in each cell represents the importance of that word in that specific document relative to the entire set of documents.\n",
        "\n",
        "Term Frequency (TF): Measures how frequently a term appears in a document.\n",
        "Inverse Document Frequency (IDF): Measures how important a term is across the entire corpus. Words that appear frequently in many documents (like stop words) will have a lower IDF, thus being down-weighted. Words that are unique to a few documents will have a higher IDF, thus being given more weight.\n",
        "By using TF-IDF, we convert the text data into a numerical format that machine learning models can understand, while also highlighting words that are more discriminative for classification (like words that appear frequently in spam but rarely in ham)."
      ],
      "metadata": {
        "id": "76Ylt5zo1xOF"
      }
    },
    {
      "cell_type": "code",
      "source": [
        "# Vectorize the text data using TfidfVectorizer\n",
        "# Initialize the vectorizer with parameters like max_features and stop_words\n",
        "tfidf_vectorizer = TfidfVectorizer(max_features=2000, stop_words='english')\n",
        "\n",
        "# Use fit_transform on the text data to create the TF-IDF features\n",
        "X = tfidf_vectorizer.fit_transform(df['text'])\n",
        "\n",
        "# Display the shape of the feature matrix\n",
        "print(\"Shape of TF-IDF feature matrix:\", X.shape)"
      ],
      "metadata": {
        "colab": {
          "base_uri": "https://localhost:8080/"
        },
        "id": "dVPeKWad17-Q",
        "outputId": "c084866e-295c-4e28-a208-f04fe3950d40"
      },
      "execution_count": null,
      "outputs": [
        {
          "output_type": "stream",
          "name": "stdout",
          "text": [
            "Shape of TF-IDF feature matrix: (6000, 105)\n"
          ]
        }
      ]
    },
    {
      "cell_type": "markdown",
      "metadata": {
        "id": "_rZvx4DW2LA4"
      },
      "source": [
        "### Resulting Features\n",
        "\n",
        "After using `TfidfVectorizer`, the result is a sparse matrix. In this matrix:\n",
        "\n",
        "*   Each **row** represents an individual email.\n",
        "*   Each **column** corresponds to a unique word (token) from the vocabulary extracted by the vectorizer.\n",
        "*   The **values** within the matrix are the TF-IDF scores, indicating the importance of each word in each email relative to the entire dataset.\n",
        "\n",
        "The matrix is typically sparse because most emails will only contain a small subset of the total vocabulary. This numerical representation, `X`, is now ready to be used as input for machine learning classification models."
      ]
    },
    {
      "cell_type": "markdown",
      "source": [
        "##Splitting Data into Training and Test Sets"
      ],
      "metadata": {
        "id": "d1fj5k402gBr"
      }
    },
    {
      "cell_type": "code",
      "source": [
        "from sklearn.model_selection import train_test_split\n",
        "\n",
        "# Split data into training and testing sets (e.g., 80% train, 20% test)\n",
        "X_train, X_test, y_train, y_test = train_test_split(X, df['label'], test_size=0.2, random_state=42)\n",
        "\n",
        "# Print the shapes of the resulting sets\n",
        "print(\"Shape of X_train:\", X_train.shape)\n",
        "print(\"Shape of X_test:\", X_test.shape)\n",
        "print(\"Shape of y_train:\", y_train.shape)\n",
        "print(\"Shape of y_test:\", y_test.shape)"
      ],
      "metadata": {
        "colab": {
          "base_uri": "https://localhost:8080/"
        },
        "id": "bMYy8ODh2YBh",
        "outputId": "6426e59e-1b4f-485a-bc7c-244aaf53d5e7"
      },
      "execution_count": null,
      "outputs": [
        {
          "output_type": "stream",
          "name": "stdout",
          "text": [
            "Shape of X_train: (4800, 105)\n",
            "Shape of X_test: (1200, 105)\n",
            "Shape of y_train: (4800,)\n",
            "Shape of y_test: (1200,)\n"
          ]
        }
      ]
    },
    {
      "cell_type": "markdown",
      "metadata": {
        "id": "vJ5IUN9R22iu"
      },
      "source": [
        "### Reason for Splitting Data\n",
        "\n",
        "We split the data into training and test sets to evaluate how well our machine learning model will perform on unseen, new data.\n",
        "\n",
        "*   The **training set** is used to train the model, allowing it to learn the patterns and relationships between the text features and the spam/ham labels.\n",
        "*   The **test set** is held out and is not used during the training process. After the model is trained, we use the test set to evaluate its performance. This gives us an unbiased estimate of how well the model is likely to generalize to real-world email data it hasn't encountered before.\n",
        "\n",
        "By evaluating on unseen data, we can get a more realistic understanding of the model's accuracy and avoid overfitting, which is when a model performs very well on the training data but poorly on new data."
      ]
    },
    {
      "cell_type": "markdown",
      "source": [
        "##Model Training – Naive Bayes and Logistic Regression"
      ],
      "metadata": {
        "id": "fERgb7xB3Fv9"
      }
    },
    {
      "cell_type": "code",
      "source": [
        "from sklearn.naive_bayes import MultinomialNB\n",
        "from sklearn.linear_model import LogisticRegression\n",
        "\n",
        "# Initialize the classifiers\n",
        "mnb_model = MultinomialNB()\n",
        "lr_model = LogisticRegression(max_iter=1000) # Increase max_iter for convergence"
      ],
      "metadata": {
        "id": "1fdBqr4g3Oik"
      },
      "execution_count": null,
      "outputs": []
    },
    {
      "cell_type": "code",
      "source": [
        "# Train the Multinomial Naive Bayes model\n",
        "mnb_model.fit(X_train, y_train)\n",
        "\n",
        "print(\"Multinomial Naive Bayes model trained successfully.\")"
      ],
      "metadata": {
        "colab": {
          "base_uri": "https://localhost:8080/"
        },
        "id": "6YClS5vP3XX5",
        "outputId": "032c05c8-6d14-4424-8ee9-5b311e1ad656"
      },
      "execution_count": null,
      "outputs": [
        {
          "output_type": "stream",
          "name": "stdout",
          "text": [
            "Multinomial Naive Bayes model trained successfully.\n"
          ]
        }
      ]
    },
    {
      "cell_type": "code",
      "source": [
        "# Train the Logistic Regression model\n",
        "lr_model.fit(X_train, y_train)\n",
        "\n",
        "print(\"Logistic Regression model trained successfully.\")"
      ],
      "metadata": {
        "colab": {
          "base_uri": "https://localhost:8080/"
        },
        "id": "W4VJzNqO3fnR",
        "outputId": "6ac98ee7-3e4a-4187-a545-5ee185b67686"
      },
      "execution_count": null,
      "outputs": [
        {
          "output_type": "stream",
          "name": "stdout",
          "text": [
            "Logistic Regression model trained successfully.\n"
          ]
        }
      ]
    },
    {
      "cell_type": "markdown",
      "source": [
        "##Model Evaluation"
      ],
      "metadata": {
        "id": "e6b10XR345wf"
      }
    },
    {
      "cell_type": "markdown",
      "source": [
        "##Predictions"
      ],
      "metadata": {
        "id": "7iPoo3OG52a2"
      }
    },
    {
      "cell_type": "code",
      "source": [
        "from sklearn.metrics import accuracy_score\n",
        "\n",
        "# Predictions for Multinomial Naive Bayes\n",
        "y_pred_nb = mnb_model.predict(X_test)\n",
        "\n",
        "# Predictions for Logistic Regression\n",
        "y_pred_lr = lr_model.predict(X_test)"
      ],
      "metadata": {
        "id": "UsVGPJo35B0q"
      },
      "execution_count": null,
      "outputs": []
    },
    {
      "cell_type": "markdown",
      "source": [
        "##Accuracy"
      ],
      "metadata": {
        "id": "2a5dA_zO5xjl"
      }
    },
    {
      "cell_type": "code",
      "source": [
        "# Calculate Accuracy for Multinomial Naive Bayes\n",
        "accuracy_nb = accuracy_score(y_test, y_pred_nb)\n",
        "print(f\"Accuracy of Multinomial Naive Bayes: {accuracy_nb:.4f}\")\n",
        "\n",
        "# Calculate Accuracy for Logistic Regression\n",
        "accuracy_lr = accuracy_score(y_test, y_pred_lr)\n",
        "print(f\"Accuracy of Logistic Regression: {accuracy_lr:.4f}\")"
      ],
      "metadata": {
        "colab": {
          "base_uri": "https://localhost:8080/"
        },
        "id": "6uh2GugN5EU1",
        "outputId": "583599f8-169d-422d-9c70-5d7710d68d96"
      },
      "execution_count": null,
      "outputs": [
        {
          "output_type": "stream",
          "name": "stdout",
          "text": [
            "Accuracy of Multinomial Naive Bayes: 0.9600\n",
            "Accuracy of Logistic Regression: 1.0000\n"
          ]
        }
      ]
    },
    {
      "cell_type": "markdown",
      "source": [
        "##Confusion Matrix"
      ],
      "metadata": {
        "id": "W1PGVNuC5ulE"
      }
    },
    {
      "cell_type": "code",
      "source": [
        "from sklearn.metrics import confusion_matrix\n",
        "\n",
        "# Confusion Matrix for Multinomial Naive Bayes\n",
        "conf_matrix_nb = confusion_matrix(y_test, y_pred_nb)\n",
        "print(\"Confusion Matrix for Multinomial Naive Bayes:\")\n",
        "print(conf_matrix_nb)\n",
        "\n",
        "# Confusion Matrix for Logistic Regression\n",
        "conf_matrix_lr = confusion_matrix(y_test, y_pred_lr)\n",
        "print(\"\\nConfusion Matrix for Logistic Regression:\")\n",
        "print(conf_matrix_lr)\n",
        "\n",
        "# Explanation of Confusion Matrix terms:\n",
        "print(\"\\nConfusion Matrix Terms:\")\n",
        "print(\"- True Positives (TP): Spam correctly identified as spam.\")\n",
        "print(\"- True Negatives (TN): Ham correctly identified as ham.\")\n",
        "print(\"- False Positives (FP): Ham incorrectly labeled as spam (false alarm).\")\n",
        "print(\"- False Negatives (FN): Spam incorrectly labeled as ham (missed spam).\")\n",
        "\n",
        "# Assuming the confusion matrix is structured as:\n",
        "# [[TN, FP],\n",
        "#  [FN, TP]]\n",
        "\n",
        "tn_nb, fp_nb, fn_nb, tp_nb = conf_matrix_nb.ravel()\n",
        "print(f\"\\nMultinomial Naive Bayes:\")\n",
        "print(f\"  TP: {tp_nb}, TN: {tn_nb}, FP: {fp_nb}, FN: {fn_nb}\")\n",
        "\n",
        "tn_lr, fp_lr, fn_lr, tp_lr = conf_matrix_lr.ravel()\n",
        "print(f\"\\nLogistic Regression:\")\n",
        "print(f\"  TP: {tp_lr}, TN: {tn_lr}, FP: {fp_lr}, FN: {fn_lr}\")"
      ],
      "metadata": {
        "colab": {
          "base_uri": "https://localhost:8080/"
        },
        "id": "A1U5vU125Qfj",
        "outputId": "1fd10f1c-8beb-4779-9950-ceb444d599fc"
      },
      "execution_count": null,
      "outputs": [
        {
          "output_type": "stream",
          "name": "stdout",
          "text": [
            "Confusion Matrix for Multinomial Naive Bayes:\n",
            "[[701   0]\n",
            " [ 48 451]]\n",
            "\n",
            "Confusion Matrix for Logistic Regression:\n",
            "[[701   0]\n",
            " [  0 499]]\n",
            "\n",
            "Confusion Matrix Terms:\n",
            "- True Positives (TP): Spam correctly identified as spam.\n",
            "- True Negatives (TN): Ham correctly identified as ham.\n",
            "- False Positives (FP): Ham incorrectly labeled as spam (false alarm).\n",
            "- False Negatives (FN): Spam incorrectly labeled as ham (missed spam).\n",
            "\n",
            "Multinomial Naive Bayes:\n",
            "  TP: 451, TN: 701, FP: 0, FN: 48\n",
            "\n",
            "Logistic Regression:\n",
            "  TP: 499, TN: 701, FP: 0, FN: 0\n"
          ]
        }
      ]
    },
    {
      "cell_type": "markdown",
      "source": [
        "##Precision, Recall, F1-Score"
      ],
      "metadata": {
        "id": "s8ZG-u8U5pvU"
      }
    },
    {
      "cell_type": "code",
      "source": [
        "from sklearn.metrics import classification_report\n",
        "\n",
        "# Classification Report for Multinomial Naive Bayes\n",
        "print(\"\\nClassification Report for Multinomial Naive Bayes:\")\n",
        "print(classification_report(y_test, y_pred_nb))\n",
        "\n",
        "# Classification Report for Logistic Regression\n",
        "print(\"\\nClassification Report for Logistic Regression:\")\n",
        "print(classification_report(y_test, y_pred_lr))\n",
        "\n",
        "# Explanation of Precision, Recall, and F1-Score (focus on Spam class - label 1):\n",
        "print(\"\\nExplanation of Metrics (focus on Spam class - label 1):\")\n",
        "print(\"- Precision (Spam): Of all the emails predicted as spam, what percentage were actually spam?\")\n",
        "print(\"  (TP / (TP + FP))\")\n",
        "print(\"- Recall (Spam): Of all the actual spam emails, what percentage did the model correctly identify?\")\n",
        "print(\"  (TP / (TP + FN))\")\n",
        "print(\"- F1-Score (Spam): The harmonic mean of Precision and Recall, providing a single metric balance between them.\")\n",
        "print(\"  (2 * (Precision * Recall) / (Precision + Recall))\")"
      ],
      "metadata": {
        "colab": {
          "base_uri": "https://localhost:8080/"
        },
        "id": "fndL4DLU5hDn",
        "outputId": "9d624868-19dd-440e-f067-fcddb7e255e4"
      },
      "execution_count": null,
      "outputs": [
        {
          "output_type": "stream",
          "name": "stdout",
          "text": [
            "\n",
            "Classification Report for Multinomial Naive Bayes:\n",
            "              precision    recall  f1-score   support\n",
            "\n",
            "           0       0.94      1.00      0.97       701\n",
            "           1       1.00      0.90      0.95       499\n",
            "\n",
            "    accuracy                           0.96      1200\n",
            "   macro avg       0.97      0.95      0.96      1200\n",
            "weighted avg       0.96      0.96      0.96      1200\n",
            "\n",
            "\n",
            "Classification Report for Logistic Regression:\n",
            "              precision    recall  f1-score   support\n",
            "\n",
            "           0       1.00      1.00      1.00       701\n",
            "           1       1.00      1.00      1.00       499\n",
            "\n",
            "    accuracy                           1.00      1200\n",
            "   macro avg       1.00      1.00      1.00      1200\n",
            "weighted avg       1.00      1.00      1.00      1200\n",
            "\n",
            "\n",
            "Explanation of Metrics (focus on Spam class - label 1):\n",
            "- Precision (Spam): Of all the emails predicted as spam, what percentage were actually spam?\n",
            "  (TP / (TP + FP))\n",
            "- Recall (Spam): Of all the actual spam emails, what percentage did the model correctly identify?\n",
            "  (TP / (TP + FN))\n",
            "- F1-Score (Spam): The harmonic mean of Precision and Recall, providing a single metric balance between them.\n",
            "  (2 * (Precision * Recall) / (Precision + Recall))\n"
          ]
        }
      ]
    },
    {
      "cell_type": "markdown",
      "source": [
        "##Model Comparison\n",
        "Based on the evaluation metrics:\n",
        "\n",
        "Accuracy: The Logistic Regression model achieved a perfect accuracy of 1.0000, while the Multinomial Naive Bayes model achieved an accuracy of 0.9600.\n",
        "\n",
        "Confusion Matrix:\n",
        "Multinomial Naive Bayes had 48 False Negatives (spam incorrectly classified as ham), while Logistic Regression had 0 False Negatives. Both models had 0 False Positives (ham incorrectly classified as spam).\n",
        "\n",
        "Classification Report:\n",
        "Logistic Regression shows perfect Precision, Recall, and F1-score for both classes (ham and spam).\n",
        "Multinomial Naive Bayes has perfect Precision for the spam class (1.00), but a slightly lower Recall (0.90), indicating it missed some spam emails.\n",
        "\n",
        "\n",
        "Summary: In this specific dataset, the Logistic Regression model significantly outperformed the Multinomial Naive Bayes model, achieving perfect scores across all evaluation metrics. This suggests Logistic Regression was able to capture the patterns in the data more effectively. However, it's worth noting that Logistic Regression might be more computationally intensive for very large datasets compared to Naive Bayes."
      ],
      "metadata": {
        "id": "z2-h_Uld6LmA"
      }
    },
    {
      "cell_type": "markdown",
      "source": [
        "##Analysis and Discussion"
      ],
      "metadata": {
        "id": "8jmTzmuf6mq-"
      }
    },
    {
      "cell_type": "code",
      "source": [
        "# Error Analysis for Multinomial Naive Bayes\n",
        "\n",
        "# Find indices of false negatives (actual spam, predicted ham)\n",
        "fn_indices_nb = [i for i, (actual, predicted) in enumerate(zip(y_test, y_pred_nb)) if actual == 1 and predicted == 0]\n",
        "\n",
        "# Find indices of false positives (actual ham, predicted spam)\n",
        "fp_indices_nb = [i for i, (actual, predicted) in enumerate(zip(y_test, y_pred_nb)) if actual == 0 and predicted == 1]\n",
        "\n",
        "print(\"Examples of False Negatives (Multinomial Naive Bayes):\")\n",
        "for i in fn_indices_nb[:5]: # Displaying up to 5 examples\n",
        "    print(f\"  Email: {df.iloc[y_test.index[i]]['text']}\")\n",
        "    print(f\"  Actual Label: {y_test.iloc[i]}, Predicted Label: {y_pred_nb[i]}\")\n",
        "    print(\"-\" * 20)\n",
        "\n",
        "print(\"\\nExamples of False Positives (Multinomial Naive Bayes):\")\n",
        "for i in fp_indices_nb[:5]: # Displaying up to 5 examples\n",
        "    print(f\"  Email: {df.iloc[y_test.index[i]]['text']}\")\n",
        "    print(f\"  Actual Label: {y_test.iloc[i]}, Predicted Label: {y_pred_nb[i]}\")\n",
        "    print(\"-\" * 20)\n",
        "\n",
        "# Error Analysis for Logistic Regression\n",
        "# Since Logistic Regression had perfect accuracy, there should be no false negatives or false positives.\n",
        "# We can confirm this by checking the counts.\n",
        "print(\"\\nError Analysis for Logistic Regression:\")\n",
        "if len(conf_matrix_lr.ravel()) == 4:\n",
        "    tn_lr, fp_lr, fn_lr, tp_lr = conf_matrix_lr.ravel()\n",
        "    print(f\"False Negatives (Logistic Regression): {fn_lr}\")\n",
        "    print(f\"False Positives (Logistic Regression): {fp_lr}\")\n",
        "else:\n",
        "    print(\"Could not retrieve TN, FP, FN, TP from Logistic Regression confusion matrix.\")\n",
        "\n",
        "if fn_lr == 0 and fp_lr == 0:\n",
        "    print(\"Logistic Regression had no false negatives or false positives on the test set.\")"
      ],
      "metadata": {
        "colab": {
          "base_uri": "https://localhost:8080/"
        },
        "id": "APA8VWTN6iP9",
        "outputId": "37de023a-8b00-4f80-da01-f2cb082e6f63"
      },
      "execution_count": null,
      "outputs": [
        {
          "output_type": "stream",
          "name": "stdout",
          "text": [
            "Examples of False Negatives (Multinomial Naive Bayes):\n",
            "  Email: update your account report offer project support project\n",
            "  Actual Label: 1, Predicted Label: 0\n",
            "--------------------\n",
            "  Email: free trial project tomorrow today\n",
            "  Actual Label: 1, Predicted Label: 0\n",
            "--------------------\n",
            "  Email: free trial trial limited tomorrow server tomorrow server welcome\n",
            "  Actual Label: 1, Predicted Label: 0\n",
            "--------------------\n",
            "  Email: free trial document team offer welcome payment document agenda limited report\n",
            "  Actual Label: 1, Predicted Label: 0\n",
            "--------------------\n",
            "  Email: update your account today today update meeting limited free invoice support call\n",
            "  Actual Label: 1, Predicted Label: 0\n",
            "--------------------\n",
            "\n",
            "Examples of False Positives (Multinomial Naive Bayes):\n",
            "\n",
            "Error Analysis for Logistic Regression:\n",
            "False Negatives (Logistic Regression): 0\n",
            "False Positives (Logistic Regression): 0\n",
            "Logistic Regression had no false negatives or false positives on the test set.\n"
          ]
        }
      ]
    },
    {
      "cell_type": "markdown",
      "source": [
        "##Potential Improvements\n",
        "Based on the analysis, here are some potential ways to further improve the spam detection model:\n",
        "\n",
        "Collect More Data or a More Diverse Dataset: While the current dataset yielded perfect results with Logistic Regression, real-world email datasets can be more complex and varied. Using a larger and more diverse dataset, including a wider range of spam and ham examples, can help the model generalize better to unseen emails.\n",
        "\n",
        "Explore Advanced Text Preprocessing:\n",
        "\n",
        "Lemmatization: Implement lemmatization (as discussed earlier) to reduce words to their base form, which can help group similar words and potentially improve feature representation.\n",
        "\n",
        "\n",
        "Handling Special Tokens: Consider specific handling for URLs, numbers, email addresses, or other special tokens that might carry important information for spam detection. Replacing them with generic tokens (e.g., __URL__, __NUMBER__) can reduce vocabulary size and capture patterns.\n",
        "Experiment with Other Algorithms and Hyperparameter Tuning:\n",
        "\n",
        "Support Vector Machines (SVM): SVMs are powerful classifiers that can work well with high-dimensional data like TF-IDF features.\n",
        "\n",
        "Ensemble Methods: Techniques like Random Forests or Gradient Boosting (e.g., XGBoost, LightGBM) can combine the predictions of multiple models to potentially achieve higher accuracy.\n",
        "\n",
        "Hyperparameter Tuning: For Logistic Regression, tuning hyperparameters like the regularization strength (C) and penalty type (l1, l2) could potentially improve performance on more challenging datasets. For Naive Bayes, exploring different"
      ],
      "metadata": {
        "id": "hcmIzEhJ61BH"
      }
    },
    {
      "cell_type": "markdown",
      "source": [
        "##Value to the Marketing Team\n",
        "A robust spam detection model like this is highly valuable to a marketing team for several key reasons:\n",
        "\n",
        "Saves Time and Increases Efficiency: By automatically filtering out spam emails from customer inquiries, feedback forms, or other communication channels, the marketing team can save significant time and effort that would otherwise be spent sifting through unwanted messages.\n",
        "\n",
        "This allows them to focus on legitimate customer interactions and prioritize their responses effectively.\n",
        "\n",
        "Protects Brand Reputation: Preventing spam content from reaching customers helps maintain a professional and trustworthy brand image.\n",
        "\n",
        " Customers are less likely to be frustrated or associate the brand with unwanted communications if spam is effectively filtered out.\n",
        "\n",
        "Enables Focus on Legitimate Engagement: With spam minimized, the marketing team can concentrate on engaging with genuine leads, customers, and partners.\n",
        "\n",
        " This leads to more meaningful interactions, improved customer satisfaction, and ultimately, better business outcomes.\n",
        "\n",
        "Improved Data Quality: By removing spam, the dataset used for analysis and reporting becomes cleaner and more reliable, leading to more accurate insights into customer behavior and campaign performance.\n",
        "\n",
        "In essence, a good spam detection model is not just a technical tool but a strategic asset that empowers the marketing team to operate more efficiently, protect the brand, and build stronger customer relationships."
      ],
      "metadata": {
        "id": "uHVaCbEg7d25"
      }
    }
  ]
}